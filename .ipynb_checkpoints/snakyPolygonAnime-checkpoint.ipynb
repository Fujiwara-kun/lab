{
 "cells": [
  {
   "cell_type": "code",
   "execution_count": 1,
   "id": "f96f6f30-26c8-4b28-a374-1b6679b5970d",
   "metadata": {},
   "outputs": [
    {
     "data": {
      "text/html": [
       "<div id=\"glowscript\" class=\"glowscript\"></div>"
      ],
      "text/plain": [
       "<IPython.core.display.HTML object>"
      ]
     },
     "metadata": {},
     "output_type": "display_data"
    },
    {
     "data": {
      "application/javascript": [
       "if (typeof Jupyter !== \"undefined\") { window.__context = { glowscript_container: $(\"#glowscript\").removeAttr(\"id\")};}else{ element.textContent = ' ';}"
      ],
      "text/plain": [
       "<IPython.core.display.Javascript object>"
      ]
     },
     "metadata": {},
     "output_type": "display_data"
    },
    {
     "name": "stdout",
     "output_type": "stream",
     "text": [
      "六角形の面積: 6.0\n",
      "三角形の面積: 0.9999999999999996\n",
      "五角形の面積: 5.0\n"
     ]
    }
   ],
   "source": [
    "from vpython import *\n",
    "import numpy as np\n",
    "import math\n",
    "\n",
    "scene.title = \"等積変形アニメーション\"\n",
    "scene.height = 600\n",
    "scene.center = vector(0, 0, 0)\n",
    "scene.background = color.white\n",
    "\n",
    "# 初期頂点（六角形）\n",
    "vertices = [\n",
    "    vector(-2, 0, 0),\n",
    "    vector(-1, -1, 0),  # 固定\n",
    "    vector(1, -1, 0),   # 固定\n",
    "    vector(2, 0, 0),\n",
    "    vector(1, 1, 0),    # 対角線に沿って垂直に動かす\n",
    "    vector(-1, 1, 0)\n",
    "]\n",
    "#辺の長さ\n",
    "edge_lengths = []\n",
    "n = len(vertices)\n",
    "for i in range(n):\n",
    "    a = vertices[i]\n",
    "    b = vertices[(i + 1) % n]  \n",
    "    length = mag(b - a)      \n",
    "    edge_lengths.append(length)\n",
    "#v4とv2の対角線の初期の長さ\n",
    "diag_length=mag(vertices[4]-vertices[2])\n",
    "#三角形の面積の計算(ヘロンの公式)\n",
    "def HeronsFormula(a,b,c):\n",
    "    s=(a+b+c)/2\n",
    "    triangle_area = math.sqrt(s * (s - a) * (s - b) * (s - c))\n",
    "    return triangle_area\n",
    "\n",
    "#頂点\n",
    "spheres = [sphere(pos=v, radius=0.05, color=color.red) for v in vertices]\n",
    "polygon = curve(pos=vertices + [vertices[0]], color=color.blue, radius=0.01)\n",
    "#対角線\n",
    "diag = curve(pos=[vertices[2], vertices[4]], color=color.red, radius=0.02)  \n",
    "\n",
    "# 面積計算（Shoelace）\n",
    "def shoelaceFormula(vs):\n",
    "    n = len(vs)\n",
    "    area = 0\n",
    "    for i in range(n):\n",
    "        x0 = vs[i].x\n",
    "        y0 = vs[i].y\n",
    "        x1 = vs[(i + 1) % n].x\n",
    "        y1 = vs[(i + 1) % n].y\n",
    "        area += x0 * y1 - x1 * y0\n",
    "    return abs(area) / 2\n",
    "\n",
    "# 初期面積\n",
    "initial_area = shoelaceFormula(vertices)\n",
    "print(\"六角形の面積:\", initial_area)\n",
    "#三角形の面積\n",
    "triangle_area=HeronsFormula(diag_length,edge_lengths[3],edge_lengths[2])\n",
    "print(\"三角形の面積:\", triangle_area)\n",
    "#五角形の面積\n",
    "pentagon_area=shoelaceFormula(vertices)-HeronsFormula(diag_length,edge_lengths[3],edge_lengths[2])\n",
    "print(\"五角形の面積:\", pentagon_area)\n",
    "\n",
    "\n"
   ]
  },
  {
   "cell_type": "code",
   "execution_count": null,
   "id": "5d820535-68f7-48f5-b0c3-022aeeb73abd",
   "metadata": {},
   "outputs": [],
   "source": []
  }
 ],
 "metadata": {
  "kernelspec": {
   "display_name": "Python 3 (ipykernel)",
   "language": "python",
   "name": "python3"
  },
  "language_info": {
   "codemirror_mode": {
    "name": "ipython",
    "version": 3
   },
   "file_extension": ".py",
   "mimetype": "text/x-python",
   "name": "python",
   "nbconvert_exporter": "python",
   "pygments_lexer": "ipython3",
   "version": "3.13.5"
  }
 },
 "nbformat": 4,
 "nbformat_minor": 5
}
